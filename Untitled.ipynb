{
 "cells": [
  {
   "cell_type": "code",
   "execution_count": 87,
   "metadata": {},
   "outputs": [],
   "source": [
    "import os\n",
    "path = '/home/eindhan/catkin_workspace/src/hackathon/data/na'\n",
    "load_batch = os.listdir(path) \n"
   ]
  },
  {
   "cell_type": "code",
   "execution_count": 2,
   "metadata": {},
   "outputs": [],
   "source": [
    "import numpy as np"
   ]
  },
  {
   "cell_type": "code",
   "execution_count": 89,
   "metadata": {},
   "outputs": [
    {
     "data": {
      "image/png": "[encoded data removed]",
      "text/plain": [
       "<matplotlib.figure.Figure at 0x7f231eaea750>"
      ]
     },
     "metadata": {},
     "output_type": "display_data"
    }
   ],
   "source": [
    "from imgaug import augmenters as iaa\n",
    "import matplotlib.pyplot as plt\n",
    "import cv2\n",
    "\n",
    "seq = iaa.Sequential([\n",
    "    iaa.Crop(px=(0, 1)), # crop images from each side by 0 to 16px (randomly chosen)\n",
    "    iaa.Fliplr(0.1), # horizontally flip 50% of the images\n",
    "    iaa.GaussianBlur(sigma=(-1.0, -1.0)) # blur images with a sigma of 0 to 3.0\n",
    "])\n",
    "\n",
    "for batch_idx in range(len(load_batch)):\n",
    "    # 'images' should be either a 4D numpy array of shape (N, height, width, channels)\n",
    "    # or a list of 3D numpy arrays, each having shape (height, width, channels).\n",
    "    # Grayscale images must have shape (height, width, 1) each.\n",
    "    # All images must have numpy's dtype uint8. Values are expected to be in\n",
    "    # range 0-255.\n",
    "    images = cv2.imread('data/na/'+load_batch[batch_idx])\n",
    "    \n",
    "    #print (images,load_batch[batch_idx])\n",
    "    images_aug = seq.augment_images(images)\n",
    "    cv2.imwrite('data/na/Aug_'+load_batch[batch_idx]+'_auto_', images_aug)\n",
    "    plt.imshow(images_aug)\n",
    "    #break"
   ]
  },
  {
   "cell_type": "code",
   "execution_count": 66,
   "metadata": {},
   "outputs": [],
   "source": [
    "LD = np.load('lidar_Data.npy')\n",
    "S =np.argsort(np.array(LD))"
   ]
  },
  {
   "cell_type": "code",
   "execution_count": 76,
   "metadata": {},
   "outputs": [],
   "source": [
    "S = np.hstack((S[S<180],S[S >= 180]-360))"
   ]
  },
  {
   "cell_type": "code",
   "execution_count": 78,
   "metadata": {},
   "outputs": [
    {
     "data": {
      "text/plain": [
       "(360,)"
      ]
     },
     "execution_count": 78,
     "metadata": {},
     "output_type": "execute_result"
    }
   ],
   "source": [
    "LD.shape"
   ]
  },
  {
   "cell_type": "code",
   "execution_count": 83,
   "metadata": {},
   "outputs": [
    {
     "data": {
      "image/png": "[encoded data removed]",
      "text/plain": [
       "<matplotlib.figure.Figure at 0x7f231e1a7dd0>"
      ]
     },
     "metadata": {},
     "output_type": "display_data"
    }
   ],
   "source": [
    "plt.plot(S,LD[S],'*')\n",
    "plt.show()"
   ]
  },
  {
   "cell_type": "code",
   "execution_count": 82,
   "metadata": {},
   "outputs": [
    {
     "data": {
      "text/plain": [
       "179"
      ]
     },
     "execution_count": 82,
     "metadata": {},
     "output_type": "execute_result"
    }
   ],
   "source": [
    "np.sum(S>0)"
   ]
  },
  {
   "cell_type": "code",
   "execution_count": 86,
   "metadata": {},
   "outputs": [
    {
     "data": {
      "text/plain": [
       "array([3.23754954, 3.21377611, 3.22659111, 3.22504735, 3.24378133,\n",
       "       3.22433305, 3.23339868,        inf,        inf,        inf,\n",
       "              inf,        inf,        inf,        inf,        inf,\n",
       "              inf,        inf,        inf,        inf,        inf,\n",
       "              inf,        inf,        inf,        inf,        inf,\n",
       "              inf,        inf,        inf,        inf,        inf,\n",
       "              inf,        inf,        inf,        inf,        inf,\n",
       "              inf,        inf,        inf,        inf,        inf,\n",
       "              inf,        inf,        inf,        inf,        inf,\n",
       "              inf,        inf,        inf,        inf,        inf,\n",
       "              inf,        inf,        inf,        inf,        inf,\n",
       "              inf,        inf,        inf,        inf,        inf,\n",
       "              inf,        inf,        inf,        inf,        inf,\n",
       "              inf,        inf,        inf,        inf,        inf,\n",
       "              inf,        inf,        inf,        inf,        inf,\n",
       "              inf,        inf,        inf,        inf,        inf,\n",
       "              inf,        inf,        inf,        inf,        inf,\n",
       "              inf,        inf,        inf,        inf,        inf,\n",
       "              inf,        inf,        inf,        inf,        inf,\n",
       "              inf,        inf,        inf,        inf,        inf,\n",
       "              inf,        inf,        inf,        inf,        inf,\n",
       "              inf,        inf,        inf,        inf,        inf,\n",
       "              inf,        inf,        inf,        inf,        inf,\n",
       "              inf,        inf,        inf,        inf,        inf,\n",
       "              inf,        inf,        inf,        inf,        inf,\n",
       "              inf,        inf,        inf,        inf,        inf,\n",
       "              inf,        inf,        inf,        inf,        inf,\n",
       "              inf,        inf,        inf,        inf,        inf,\n",
       "              inf,        inf,        inf,        inf,        inf,\n",
       "              inf,        inf,        inf,        inf,        inf,\n",
       "              inf,        inf,        inf,        inf,        inf,\n",
       "              inf,        inf,        inf,        inf,        inf,\n",
       "              inf,        inf,        inf,        inf,        inf,\n",
       "              inf,        inf,        inf,        inf,        inf,\n",
       "              inf,        inf,        inf,        inf,        inf,\n",
       "              inf,        inf,        inf,        inf,        inf,\n",
       "              inf,        inf,        inf,        inf,        inf,\n",
       "              inf,        inf,        inf,        inf,        inf,\n",
       "              inf,        inf,        inf,        inf,        inf,\n",
       "              inf,        inf,        inf,        inf,        inf,\n",
       "              inf,        inf,        inf,        inf,        inf,\n",
       "              inf,        inf,        inf,        inf,        inf,\n",
       "              inf,        inf,        inf,        inf,        inf,\n",
       "              inf,        inf,        inf,        inf,        inf,\n",
       "              inf,        inf,        inf,        inf,        inf,\n",
       "              inf,        inf,        inf,        inf,        inf,\n",
       "              inf,        inf,        inf,        inf,        inf,\n",
       "              inf,        inf,        inf,        inf,        inf,\n",
       "              inf,        inf,        inf,        inf,        inf,\n",
       "              inf,        inf,        inf,        inf,        inf,\n",
       "              inf,        inf,        inf,        inf,        inf,\n",
       "              inf,        inf,        inf,        inf,        inf,\n",
       "              inf,        inf,        inf,        inf,        inf,\n",
       "              inf,        inf,        inf,        inf,        inf,\n",
       "              inf,        inf,        inf,        inf,        inf,\n",
       "              inf,        inf,        inf,        inf,        inf,\n",
       "              inf,        inf,        inf,        inf,        inf,\n",
       "              inf,        inf,        inf,        inf,        inf,\n",
       "              inf,        inf,        inf,        inf,        inf,\n",
       "              inf,        inf,        inf,        inf,        inf,\n",
       "              inf,        inf,        inf,        inf,        inf,\n",
       "              inf,        inf,        inf,        inf,        inf,\n",
       "              inf,        inf,        inf,        inf,        inf,\n",
       "              inf,        inf,        inf,        inf,        inf,\n",
       "              inf,        inf,        inf,        inf,        inf,\n",
       "              inf,        inf,        inf,        inf,        inf,\n",
       "              inf,        inf,        inf,        inf,        inf,\n",
       "              inf,        inf,        inf,        inf,        inf,\n",
       "              inf,        inf,        inf,        inf,        inf,\n",
       "              inf,        inf,        inf,        inf,        inf,\n",
       "              inf,        inf,        inf, 3.24543691, 3.24140787,\n",
       "       3.24188972, 3.22645974, 3.21857429, 3.23171449, 3.22166324])"
      ]
     },
     "execution_count": 86,
     "metadata": {},
     "output_type": "execute_result"
    }
   ],
   "source": [
    "LD"
   ]
  },
  {
   "cell_type": "code",
   "execution_count": 6,
   "metadata": {},
   "outputs": [
    {
     "name": "stdout",
     "output_type": "stream",
     "text": [
      "(10, 8, -109)\n"
     ]
    }
   ],
   "source": [
    "LD=np.load('LD.npy')\n",
    "S = np.argsort(LD).flatten()\n",
    "S = np.hstack((S[S<180],S[S >= 180]-360))\n",
    "S = S[np.argwhere(LD[S]>5).flatten()]\n",
    "a = np.min(S[S>0])\n",
    "b = np.max(S[S<=0])\n",
    "if abs(a)> abs(b):\n",
    "    ang = b+2\n",
    "else :\n",
    "    ang = a+2\n",
    "print (ang,a,b)"
   ]
  },
  {
   "cell_type": "code",
   "execution_count": 7,
   "metadata": {},
   "outputs": [
    {
     "data": {
      "text/plain": [
       "inf"
      ]
     },
     "execution_count": 7,
     "metadata": {},
     "output_type": "execute_result"
    }
   ],
   "source": [
    "LD[8]"
   ]
  },
  {
   "cell_type": "code",
   "execution_count": null,
   "metadata": {},
   "outputs": [],
   "source": []
  }
 ],
 "metadata": {
  "kernelspec": {
   "display_name": "Python 3",
   "language": "python",
   "name": "python3"
  },
  "language_info": {
   "codemirror_mode": {
    "name": "ipython",
    "version": 2
   },
   "file_extension": ".py",
   "mimetype": "text/x-python",
   "name": "python",
   "nbconvert_exporter": "python",
   "pygments_lexer": "ipython2",
   "version": "2.7.12"
  }
 },
 "nbformat": 4,
 "nbformat_minor": 2
}
